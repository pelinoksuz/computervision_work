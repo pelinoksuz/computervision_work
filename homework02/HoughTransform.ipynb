{
 "cells": [
  {
   "cell_type": "code",
   "execution_count": 1,
   "metadata": {},
   "outputs": [],
   "source": [
    "import numpy as np\n",
    "import cv2\n",
    "\n",
    "class HoughTransform:\n",
    "\n",
    "    def __init__(self, theta_res=1, rho_res=1):\n",
    "        self.theta_res = theta_res\n",
    "        self.rho_res = rho_res\n",
    "\n",
    "    def hough_lines_acc(self, edge_img):\n",
    "        height, width = edge_img.shape\n",
    "        max_rho = int(np.ceil(np.sqrt(height**2 + width**2)))\n",
    "        num_thetas = int(180 / self.theta_res)\n",
    "        num_rhos = int(max_rho * 2 / self.rho_res) + 1\n",
    "        accumulator = np.zeros((num_rhos, num_thetas), dtype=np.uint8)\n",
    "        thetas = np.deg2rad(np.arange(0, 180, self.theta_res))\n",
    "        rhos = np.arange(-max_rho, max_rho+self.rho_res, self.rho_res)\n",
    "        y_idxs, x_idxs = np.nonzero(edge_img)\n",
    "        for i in range(len(x_idxs)):\n",
    "            x = x_idxs[i]\n",
    "            y = y_idxs[i]\n",
    "            for j in range(len(thetas)):\n",
    "                rho = int(round(x*np.cos(thetas[j]) + y*np.sin(thetas[j]))/self.rho_res) + num_rhos//2\n",
    "                accumulator[rho, j] += 1\n",
    "        return accumulator, thetas, rhos\n",
    "\n",
    "    def hough_peaks(self, hough_acc, num_peaks, threshold):\n",
    "        peaks = []\n",
    "        acc_copy = hough_acc.copy()\n",
    "        for i in range(num_peaks):\n",
    "            peak = np.unravel_index(np.argmax(acc_copy), acc_copy.shape)\n",
    "            if acc_copy[peak] < threshold:\n",
    "                break\n",
    "            peaks.append(peak)\n",
    "            acc_copy[peak] = 0\n",
    "        return peaks\n",
    "\n",
    "    def hough_lines_draw(self, img, peaks, thetas, rhos):\n",
    "        for i in range(len(peaks)):\n",
    "            rho_idx, theta_idx = peaks[i]\n",
    "            rho = rhos[rho_idx]\n",
    "            theta = thetas[theta_idx]\n",
    "            a = np.cos(theta)\n",
    "            b = np.sin(theta)\n",
    "            x0 = a * rho\n",
    "            y0 = b * rho\n",
    "            x1 = int(x0 + 1000 * (-b))\n",
    "            y1 = int(y0 + 1000 * (a))\n",
    "            x2 = int(x0 - 1000 * (-b))\n",
    "            y2 = int(y0 - 1000 * (a))\n",
    "            cv2.line(img, (x1, y1), (x2, y2), (0, 0, 255), 2)\n",
    "        return img\n",
    "\n",
    "   \n"
   ]
  },
  {
   "cell_type": "code",
   "execution_count": 2,
   "metadata": {},
   "outputs": [],
   "source": [
    "# Load image\n",
    "img = cv2.imread('Lenna.jpg')\n",
    "\n",
    "# Convert image to grayscale\n",
    "gray = cv2.cvtColor(img, cv2.COLOR_BGR2GRAY)\n",
    "\n",
    "# Apply Canny edge detector\n",
    "edges = cv2.Canny(gray, 50, 150, apertureSize=3)\n",
    "\n"
   ]
  },
  {
   "cell_type": "code",
   "execution_count": 3,
   "metadata": {},
   "outputs": [],
   "source": [
    "# Create HoughTransform object\n",
    "hough = HoughTransform()\n",
    "\n",
    "# Get Hough accumulator matrix and theta/rho arrays\n",
    "acc, theta, rho = hough.hough_lines_acc(edges)\n",
    "\n"
   ]
  },
  {
   "cell_type": "code",
   "execution_count": 4,
   "metadata": {},
   "outputs": [],
   "source": [
    "# Get peak locations\n",
    "peaks = hough.hough_peaks(acc, 10, 100)\n",
    "\n"
   ]
  },
  {
   "cell_type": "code",
   "execution_count": 5,
   "metadata": {},
   "outputs": [],
   "source": [
    "# Draw lines corresponding to the peaks\n",
    "lines = hough.hough_lines_draw(img, peaks, theta, rho)\n",
    "\n"
   ]
  },
  {
   "cell_type": "code",
   "execution_count": null,
   "metadata": {},
   "outputs": [],
   "source": [
    "# Show the result\n",
    "cv2.imshow('Hough Transform', lines)\n",
    "cv2.waitKey(0)\n",
    "cv2.destroyAllWindows()"
   ]
  }
 ],
 "metadata": {
  "interpreter": {
   "hash": "09fe41a860056184f602c409d5a4fd9fd52b48411f7cd169c8868b6743d2831d"
  },
  "kernelspec": {
   "display_name": "Python 3.9.11 64-bit",
   "language": "python",
   "name": "python3"
  },
  "language_info": {
   "codemirror_mode": {
    "name": "ipython",
    "version": 3
   },
   "file_extension": ".py",
   "mimetype": "text/x-python",
   "name": "python",
   "nbconvert_exporter": "python",
   "pygments_lexer": "ipython3",
   "version": "3.9.11"
  },
  "orig_nbformat": 4
 },
 "nbformat": 4,
 "nbformat_minor": 2
}
