{
 "cells": [
  {
   "cell_type": "markdown",
   "metadata": {},
   "source": [
    "### Moravec Corner"
   ]
  },
  {
   "cell_type": "markdown",
   "metadata": {},
   "source": [
    "Moravec algoritması, bir görüntüdeki her pikselin, çevresindeki diğer piksellere göre farklı yönlerde kaydırıldığında en az değişen bölgenin (en az fark) bulunması temeline dayanır. Eğer bir piksel, çevresindeki farklı yönlere doğru kaydırıldığında farklılık en az olan bölge ise, bu piksel bir köşe olarak kabul edilir.\n",
    "\n",
    "Moravec algoritması, hızlı ve basit bir köşe tespit yöntemi olarak bilinir ve özellikle düşük çözünürlüklü görüntülerde iyi performans gösterir.\n",
    "\n",
    "Özetle, Moravec köşe tespiti, bir pikselin belirginlik değişiklikleri arasındaki farkları ölçerek köşeleri veya kenar kesişim noktalarını tespit etmek için kullanılan bir algoritmadır."
   ]
  },
  {
   "cell_type": "code",
   "execution_count": 4,
   "metadata": {},
   "outputs": [
    {
     "data": {
      "text/plain": [
       "-1"
      ]
     },
     "execution_count": 4,
     "metadata": {},
     "output_type": "execute_result"
    }
   ],
   "source": [
    "from PIL import Image\n",
    "import cv2\n",
    "\n",
    "threshold = 50\n",
    "         \n",
    "image = Image.open('Lenna.png').convert(\"L\")\n",
    "\n",
    "input_img = cv2.imread('Lenna.png', 0)\n",
    "\n",
    "cv2.imshow('Input Image', input_img)\n",
    "cv2.waitKey(0)\n",
    "\n",
    "output_img = cv2.cvtColor(input_img.copy(), cv2.COLOR_GRAY2RGB)\n",
    "\n",
    "corners = []\n",
    "xy_shifts = [(1, 0), (1, 1), (0, 1), (-1, 1)]\n",
    "\n",
    "for y in range(1, image.size[1]-1):\n",
    "    for x in range(1, image.size[0]-1):\n",
    "        \n",
    "        E = 100000\n",
    "        for shift in xy_shifts:\n",
    "            diff = image.getpixel((x + shift[0], y + shift[1]))\n",
    "            diff = diff - image.getpixel((x, y))\n",
    "            diff = diff * diff\n",
    "            if diff < E:\n",
    "                E = diff\n",
    "        if E > threshold:\n",
    "            output_img[y,x] = (0,0,255)\n",
    "\n",
    "cv2.imshow('Detected Corners', output_img)\n",
    "cv2.waitKey(0)"
   ]
  }
 ],
 "metadata": {
  "interpreter": {
   "hash": "09fe41a860056184f602c409d5a4fd9fd52b48411f7cd169c8868b6743d2831d"
  },
  "kernelspec": {
   "display_name": "Python 3.9.11 64-bit",
   "language": "python",
   "name": "python3"
  },
  "language_info": {
   "codemirror_mode": {
    "name": "ipython",
    "version": 3
   },
   "file_extension": ".py",
   "mimetype": "text/x-python",
   "name": "python",
   "nbconvert_exporter": "python",
   "pygments_lexer": "ipython3",
   "version": "3.9.11"
  },
  "orig_nbformat": 4
 },
 "nbformat": 4,
 "nbformat_minor": 2
}
