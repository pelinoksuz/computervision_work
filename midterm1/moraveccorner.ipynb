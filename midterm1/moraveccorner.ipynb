{
 "cells": [
  {
   "cell_type": "markdown",
   "metadata": {},
   "source": [
    "### Moravec Corner"
   ]
  },
  {
   "cell_type": "markdown",
   "metadata": {},
   "source": [
    "Moravec algoritması, bir görüntüdeki her pikselin, çevresindeki diğer piksellere göre farklı yönlerde kaydırıldığında en az değişen bölgenin (en az fark) bulunması temeline dayanır. Eğer bir piksel, çevresindeki farklı yönlere doğru kaydırıldığında farklılık en az olan bölge ise, bu piksel bir köşe olarak kabul edilir.\n",
    "\n",
    "Moravec algoritması, hızlı ve basit bir köşe tespit yöntemi olarak bilinir ve özellikle düşük çözünürlüklü görüntülerde iyi performans gösterir.\n",
    "\n",
    "Özetle, Moravec köşe tespiti, bir pikselin belirginlik değişiklikleri arasındaki farkları ölçerek köşeleri veya kenar kesişim noktalarını tespit etmek için kullanılan bir algoritmadır."
   ]
  },
  {
   "cell_type": "code",
   "execution_count": 1,
   "metadata": {},
   "outputs": [],
   "source": [
    "import cv2\n",
    "import numpy as np\n",
    "\n",
    "# Görüntüyü yükle\n",
    "image = cv2.imread(\"Lenna.png\", cv2.IMREAD_GRAYSCALE)\n",
    "\n",
    "# Görüntü boyutlarını al\n",
    "height, width = image.shape\n",
    "\n",
    "# Köşe adayı olabilecek her piksel için hesaplamalar yap\n",
    "\n",
    "# Pencere boyutunu belirle\n",
    "window_size = 3\n",
    "\n",
    "# Köşe olarak kabul edilecek fark eşik değerini belirle\n",
    "threshold = 1000\n",
    "\n",
    "# Köşeleri tutmak için bir numpy dizisi oluştur\n",
    "corners = np.zeros((height, width))\n",
    "\n",
    "# Her piksel için pencere boyutunda bir bölge seç ve farkları hesapla\n",
    "for y in range(window_size, height-window_size):\n",
    "    for x in range(window_size, width-window_size):\n",
    "        # Pikselin çevresindeki pencereyi al\n",
    "        window = image[y-window_size:y+window_size+1, x-window_size:x+window_size+1]\n",
    "        \n",
    "        # Pencereyi x ve y doğrultularında kaydırarak farklarını hesapla\n",
    "        dx = np.abs(np.diff(window, axis=1)).sum()\n",
    "        dy = np.abs(np.diff(window, axis=0)).sum()\n",
    "        \n",
    "        # Farkların minimumunu köşe olarak kabul et\n",
    "        corners[y, x] = min(dx, dy)\n",
    "\n",
    "# Eşik değerine göre köşeleri belirle\n",
    "corner_threshold = (corners > threshold) * 255\n",
    "\n",
    "# Köşeleri görüntü üzerinde işaretle\n",
    "\n",
    "# Görüntüyü BGR renk uzayına dönüştür (cv2.imshow(), cv2.waitKey() vb. işlevler için gerekli)\n",
    "image_with_corners = cv2.cvtColor(image, cv2.COLOR_GRAY2BGR)\n",
    "\n",
    "# Eşik değerine göre köşeleri işaretle\n",
    "image_with_corners[corner_threshold == 255] = [0, 0, 255]\n",
    "\n",
    "# Görüntüleri göster\n",
    "cv2.imshow(\"Original Image\", image)\n",
    "cv2.imshow(\"Image with Corners\", image_with_corners)\n",
    "cv2.waitKey(0)\n",
    "cv2.destroyAllWindows()\n"
   ]
  }
 ],
 "metadata": {
  "interpreter": {
   "hash": "09fe41a860056184f602c409d5a4fd9fd52b48411f7cd169c8868b6743d2831d"
  },
  "kernelspec": {
   "display_name": "Python 3.9.11 64-bit",
   "language": "python",
   "name": "python3"
  },
  "language_info": {
   "codemirror_mode": {
    "name": "ipython",
    "version": 3
   },
   "file_extension": ".py",
   "mimetype": "text/x-python",
   "name": "python",
   "nbconvert_exporter": "python",
   "pygments_lexer": "ipython3",
   "version": "3.9.11"
  },
  "orig_nbformat": 4
 },
 "nbformat": 4,
 "nbformat_minor": 2
}
