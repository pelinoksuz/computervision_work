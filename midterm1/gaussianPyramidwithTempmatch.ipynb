{
 "cells": [
  {
   "cell_type": "code",
   "execution_count": 17,
   "metadata": {},
   "outputs": [
    {
     "data": {
      "text/plain": [
       "-1"
      ]
     },
     "execution_count": 17,
     "metadata": {},
     "output_type": "execute_result"
    }
   ],
   "source": [
    "import cv2\n",
    "\n",
    "# Örnek görüntüyü yükle\n",
    "template = cv2.imread('cropped_image.png', 0)\n",
    "\n",
    "# Ana görüntüyü yükle\n",
    "image = cv2.imread('Lenna.png', 0)\n",
    "\n",
    "# Gaussian piramit oluştur\n",
    "pyramid = [image]\n",
    "for i in range(3):\n",
    "    image = cv2.pyrDown(image)\n",
    "    pyramid.append(image)\n",
    "\n",
    "# Template matching işlemini gerçekleştir\n",
    "for level, img in enumerate(pyramid):\n",
    "    # Template boyutunu piramit seviyesine göre yeniden boyutlandır\n",
    "    template_resized = cv2.resize(template, (int(template.shape[1] / pow(2, level)), int(template.shape[0] / pow(2, level))))\n",
    "    # Cross-correlation ile eşleşme puanlarını hesapla\n",
    "    match = cv2.matchTemplate(img, template_resized, cv2.TM_CCORR_NORMED)\n",
    "    # Eşleşme noktalarını tespit et\n",
    "    min_val, max_val, min_loc, max_loc = cv2.minMaxLoc(match)\n",
    "    # Eşleşme noktasını piramit seviyesine göre yeniden boyutlandır\n",
    "    x, y = max_loc\n",
    "    x = x * pow(2, level)\n",
    "    y = y * pow(2, level)\n",
    "    # Eşleşme noktasını işaretleyen dikdörtgen çiz\n",
    "    w, h = template_resized.shape[::-1]\n",
    "    cv2.rectangle(pyramid[0], (x, y), (x + w, y + h), (0, 0, 255), 2)\n",
    "\n",
    "# Sonuçları göster\n",
    "cv2.imshow('Result', pyramid[0])\n",
    "cv2.waitKey(0)\n"
   ]
  },
  {
   "cell_type": "code",
   "execution_count": 13,
   "metadata": {},
   "outputs": [],
   "source": [
    "import cv2\n",
    "import numpy as np\n",
    "\n",
    "# Load the input image and template image in grayscale\n",
    "input_image = cv2.imread('Lenna.png', cv2.IMREAD_GRAYSCALE)\n",
    "template_image = cv2.imread('cropped_image.png', cv2.IMREAD_GRAYSCALE)\n",
    "\n",
    "# Compute the cross-correlation between the input image and template image\n",
    "result = cv2.matchTemplate(input_image, template_image, cv2.TM_CCORR_NORMED)\n",
    "\n",
    "# Find the maximum correlation value and its location in the result matrix\n",
    "min_val, max_val, min_loc, max_loc = cv2.minMaxLoc(result)\n",
    "\n",
    "# Draw a rectangle around the location of the template in the input image\n",
    "template_width, template_height = template_image.shape[::-1]\n",
    "top_left = max_loc\n",
    "bottom_right = (top_left[0] + template_width, top_left[1] + template_height)\n",
    "cv2.rectangle(input_image, top_left, bottom_right, (0, 0, 255), 2)\n",
    "\n",
    "# Display the input image with the template location highlighted\n",
    "cv2.imshow('Input Image with Template Location', input_image)\n",
    "cv2.waitKey(0)\n",
    "cv2.destroyAllWindows()\n"
   ]
  },
  {
   "cell_type": "code",
   "execution_count": 15,
   "metadata": {},
   "outputs": [],
   "source": [
    "\n",
    "# Load the input image\n",
    "input_image = cv2.imread('cropped_image.png')\n",
    "\n",
    "# Downsample the image by a factor of 2\n",
    "downsampled_image = cv2.pyrDown(input_image)\n",
    "\n",
    "cv2.imshow('Input Image with Template Location', input_image)\n",
    "cv2.waitKey(0)\n",
    "cv2.destroyAllWindows()\n",
    "\n",
    "cv2.imshow('Input Image with Template Location', downsampled_image)\n",
    "cv2.waitKey(0)\n",
    "cv2.destroyAllWindows()"
   ]
  },
  {
   "cell_type": "code",
   "execution_count": 20,
   "metadata": {},
   "outputs": [],
   "source": [
    "import cv2\n",
    "import numpy as np\n",
    "\n",
    "# Load the input image and template image in grayscale\n",
    "input_image = cv2.imread('Lenna.png', cv2.IMREAD_GRAYSCALE)\n",
    "template_image = cv2.imread('cropped_image.png', cv2.IMREAD_GRAYSCALE)\n",
    "\n",
    "# Set the threshold value\n",
    "threshold = 0.8\n",
    "\n",
    "# Set the scaling factor for the image pyramid\n",
    "scale_factor = 0.5\n",
    "\n",
    "# Loop through the image pyramid levels\n",
    "while input_image.shape[0] >= template_image.shape[0] and input_image.shape[1] >= template_image.shape[1]:\n",
    "    # Match the template at the current scale\n",
    "    result = cv2.matchTemplate(input_image, template_image, cv2.TM_CCOEFF_NORMED)\n",
    "    \n",
    "    # Find the maximum correlation value and its location in the result matrix\n",
    "    min_val, max_val, min_loc, max_loc = cv2.minMaxLoc(result)\n",
    "    \n",
    "    # If the maximum correlation value is above the threshold, draw a rectangle around the location of the template in the input image\n",
    "    if max_val >= threshold:\n",
    "        template_width, template_height = template_image.shape[::-1]\n",
    "        top_left = max_loc\n",
    "        bottom_right = (top_left[0] + template_width, top_left[1] + template_height)\n",
    "        cv2.rectangle(input_image, top_left, bottom_right, (0, 0, 255), 2)\n",
    "    \n",
    "    # Down-sample the input image\n",
    "    input_image = cv2.pyrDown(input_image)\n",
    "    \n",
    "# Display the input image with the template locations highlighted\n",
    "cv2.imshow('Input Image with Template Locations', input_image)\n",
    "cv2.waitKey(0)\n",
    "cv2.destroyAllWindows()\n"
   ]
  }
 ],
 "metadata": {
  "interpreter": {
   "hash": "09fe41a860056184f602c409d5a4fd9fd52b48411f7cd169c8868b6743d2831d"
  },
  "kernelspec": {
   "display_name": "Python 3.9.11 64-bit",
   "language": "python",
   "name": "python3"
  },
  "language_info": {
   "codemirror_mode": {
    "name": "ipython",
    "version": 3
   },
   "file_extension": ".py",
   "mimetype": "text/x-python",
   "name": "python",
   "nbconvert_exporter": "python",
   "pygments_lexer": "ipython3",
   "version": "3.9.11"
  },
  "orig_nbformat": 4
 },
 "nbformat": 4,
 "nbformat_minor": 2
}
